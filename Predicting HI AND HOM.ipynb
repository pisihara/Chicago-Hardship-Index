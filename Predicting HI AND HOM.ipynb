{
 "cells": [
  {
   "cell_type": "markdown",
   "metadata": {},
   "source": [
    "In this notebook we will use six economic harship variables for 77 Chicago communities (normalized and scaled from 1 to 100) and two five-year periods ending in 2014 and in 2017 to predict the hardship index (HI) and annual homicide count (HOM) in these communities.\n",
    "\n",
    "The variables are as follows:\n",
    "\n",
    "<ul>\n",
    "    <li> HI = hardship index </li>\n",
    "    <li> HOM= homicide count </li>\n",
    "    <li> UNEMP* = Normalized and scaled % of community age 16 and older who are unemployed. </li>\n",
    "     <li> NOHS* = Normalized and Scaled % of community age 25 and older without a high school diploma. </li>\n",
    "         <li> DEP* = Normalized and scaled % of community who are dependent (under age 18 or over age 64). </li>\n",
    "             <li> HOUS*= Normalized and Scaled % of community with overcrowded housing (more than 1 occupant per room).</li>\n",
    "                 <li> POV* = Normalized and Scaled % below federal poverty line\n",
    "    <li> INC* = Normalized and scaled per capita income.</li>\n",
    "             \n",
    " Data Sources: \n",
    " HI\n",
    " https://greatcities.uic.edu/wp-content/uploads/2016/07/GCI-Hardship-Index-Fact-SheetV2.pdf (2010-2014) https://greatcities.uic.edu/wp-content/uploads/2019/12/Hardship-Index-Fact-Sheet-2017-ACS-Final-1.pdf (2013-2017).\n",
    " \n",
    " HOM\n",
    " https://data.cityofchicago.org/Public-Safety/Homicides/k9xv-yxzs\n",
    " \n",
    " "
   ]
  },
  {
   "cell_type": "markdown",
   "metadata": {},
   "source": [
    "1) We begin by importing Python's data analytics (pandas) and Numerical Python (numpy) libraries. (Press shift+enter to execute each cell)"
   ]
  },
  {
   "cell_type": "code",
   "execution_count": null,
   "metadata": {},
   "outputs": [],
   "source": [
    "import pandas as pd\n",
    "import numpy as np"
   ]
  },
  {
   "cell_type": "markdown",
   "metadata": {},
   "source": [
    "2) We use pandas (pd) to import the data file 'NHIHOM20142017Regression.xlsx' to a dataframe called \"raw_hardship\"."
   ]
  },
  {
   "cell_type": "code",
   "execution_count": null,
   "metadata": {},
   "outputs": [],
   "source": [
    "raw_hardship=pd.read_excel('NHIHOM20142017Regr.xlsx')\n",
    "raw_hardship.head(2)"
   ]
  },
  {
   "cell_type": "markdown",
   "metadata": {},
   "source": [
    "3) Let's separate the 2014 and 2017 hardship index (HI) data into two dataframes called \"HIHOM14\" and \"HIHOM17\". The column names will reflect the year."
   ]
  },
  {
   "cell_type": "code",
   "execution_count": null,
   "metadata": {},
   "outputs": [],
   "source": [
    "HIHOM14=raw_hardship[[\"ID\",\"HI14\",\"NUNEMP14\",\"NNOHS14\",\"NDEP14\",\"NHOUS14\",\"NPOV14\",\"NINC14\",\"HOM14\"]]\n",
    "HIHOM14 = HIHOM14.rename(columns = {'ID':'ID14'})\n",
    "HIHOM17=raw_hardship[[\"ID\",\"HI17\",\"NUNEMP17\",\"NNOHS17\",\"NDEP17\",\"NHOUS17\",\"NPOV17\",\"NINC17\",\"HOM17\"]]\n",
    "HIHOM17 = HIHOM17.rename(columns = {'ID':'ID17'})"
   ]
  },
  {
   "cell_type": "markdown",
   "metadata": {},
   "source": [
    "4) Let's check the 2014 data."
   ]
  },
  {
   "cell_type": "code",
   "execution_count": null,
   "metadata": {},
   "outputs": [],
   "source": [
    "HIHOM14.head(2)"
   ]
  },
  {
   "cell_type": "markdown",
   "metadata": {},
   "source": [
    "5) Let's also check the 2017 data."
   ]
  },
  {
   "cell_type": "code",
   "execution_count": null,
   "metadata": {},
   "outputs": [],
   "source": [
    "HIHOM17.head(2)"
   ]
  },
  {
   "cell_type": "markdown",
   "metadata": {},
   "source": [
    "6) Separate the independent variables X and dependent variable y."
   ]
  },
  {
   "cell_type": "code",
   "execution_count": null,
   "metadata": {},
   "outputs": [],
   "source": [
    "X14=HIHOM14[[\"NUNEMP14\",\"NNOHS14\",\"NDEP14\",\"NHOUS14\",\"NPOV14\",\"NINC14\"]]\n",
    "X17=HIHOM17[[\"NUNEMP17\",\"NNOHS17\",\"NDEP17\",\"NHOUS17\",\"NPOV17\",\"NINC17\"]]\n",
    "yHI14=HIHOM14[[\"HI14\"]]\n",
    "yHI17=HIHOM17[[\"HI17\"]]\n",
    "yHOM14=HIHOM14[[\"HOM14\"]]\n",
    "yHOM17=HIHOM17[[\"HOM17\"]]"
   ]
  },
  {
   "cell_type": "markdown",
   "metadata": {},
   "source": [
    "7) Make the linear model prediction\n",
    "y=c0+c1y=c0+c1UNEMP*+c2NOHS*+c3DEP*+c4HOUS*+c5POV*+c6INC*"
   ]
  },
  {
   "cell_type": "code",
   "execution_count": null,
   "metadata": {},
   "outputs": [],
   "source": [
    "from sklearn import linear_model\n",
    "regrHI14 = linear_model.LinearRegression()\n",
    "regrHI17 = linear_model.LinearRegression()\n",
    "regrHOM14 = linear_model.LinearRegression()\n",
    "regrHOM17 = linear_model.LinearRegression()\n",
    "regrHI14.fit(X14, yHI14)\n",
    "regrHI17.fit(X17, yHI17)\n",
    "regrHOM14.fit(X14, yHOM14)\n",
    "regrHOM17.fit(X17, yHOM17)\n",
    "print(\"y=c0+c1UNEMP*+c2NOHS*+c3DEP*+c4HOUS*+c5POV*+c6INC*\")\n",
    "print(\"Coefficients c1,...,c6 for y=HI14: \",regrHI14.coef_)\n",
    "print(\"Coefficients c1,..., c6 for y=HI17: \",regrHI17.coef_)\n",
    "print(\"Coefficients c1,..,c6 for y=HOM14: \",regrHOM14.coef_)\n",
    "print(\"Coefficients c1,...,c6 for y=HOM17: \",regrHOM17.coef_)"
   ]
  },
  {
   "cell_type": "code",
   "execution_count": null,
   "metadata": {},
   "outputs": [],
   "source": []
  }
 ],
 "metadata": {
  "kernelspec": {
   "display_name": "Python 3",
   "language": "python",
   "name": "python3"
  },
  "language_info": {
   "codemirror_mode": {
    "name": "ipython",
    "version": 3
   },
   "file_extension": ".py",
   "mimetype": "text/x-python",
   "name": "python",
   "nbconvert_exporter": "python",
   "pygments_lexer": "ipython3",
   "version": "3.6.4"
  }
 },
 "nbformat": 4,
 "nbformat_minor": 2
}
