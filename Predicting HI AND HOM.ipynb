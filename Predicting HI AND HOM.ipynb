{
 "cells": [
  {
   "cell_type": "markdown",
   "metadata": {},
   "source": [
    "In this notebook we will use six economic harship variables for 77 Chicago communities (normalized and scaled from 1 to 100) and two five-year periods ending in 2014 and in 2017 to predict the hardship index (HI) and annual homicide count (HOM) in these communities.\n",
    "\n",
    "The index data which will appear in the scatterplots are as follows:\n",
    "\n",
    "<ul>\n",
    "    <li> HI = hardship index </li>\n",
    "    <li> HOM= homicide count </li>\n",
    "    <li> UNEMP* = Normalized and scaled % of community age 16 and older who are unemployed. </li>\n",
    "     <li> NOHS* = Normalized and Scaled % of community age 25 and older without a high school diploma. </li>\n",
    "         <li> DEP* = Normalized and scaled % of community who are dependent (under age 18 or over age 64). </li>\n",
    "             <li> HOUS*= Normalized and Scaled % of community with overcrowded housing (more than 1 occupant per room).</li>\n",
    "                 <li> POV* = Normalized and Scaled % below federal poverty line\n",
    "    <li> INC* = Normalized and scaled per capita income.</li>\n",
    "             \n",
    " Data Sources: \n",
    " HI\n",
    " https://greatcities.uic.edu/wp-content/uploads/2016/07/GCI-Hardship-Index-Fact-SheetV2.pdf (2010-2014) https://greatcities.uic.edu/wp-content/uploads/2019/12/Hardship-Index-Fact-Sheet-2017-ACS-Final-1.pdf (2013-2017).\n",
    " \n",
    " HOM\n",
    " https://data.cityofchicago.org/Public-Safety/Homicides/k9xv-yxzs\n",
    " \n",
    " "
   ]
  },
  {
   "cell_type": "markdown",
   "metadata": {},
   "source": [
    "1) We begin by importing Python's data analytics (pandas) and Numerical Python (numpy) libraries. (Press shift+enter to execute each cell)"
   ]
  },
  {
   "cell_type": "code",
   "execution_count": 3,
   "metadata": {},
   "outputs": [],
   "source": [
    "import pandas as pd\n",
    "import numpy as np"
   ]
  },
  {
   "cell_type": "markdown",
   "metadata": {},
   "source": [
    "2) We use pandas (pd) to import the data file 'NHIHOM20142017Regression.xlsx' to a dataframe called \"raw_hardship\"."
   ]
  },
  {
   "cell_type": "code",
   "execution_count": 30,
   "metadata": {},
   "outputs": [
    {
     "data": {
      "text/html": [
       "<div>\n",
       "<style scoped>\n",
       "    .dataframe tbody tr th:only-of-type {\n",
       "        vertical-align: middle;\n",
       "    }\n",
       "\n",
       "    .dataframe tbody tr th {\n",
       "        vertical-align: top;\n",
       "    }\n",
       "\n",
       "    .dataframe thead th {\n",
       "        text-align: right;\n",
       "    }\n",
       "</style>\n",
       "<table border=\"1\" class=\"dataframe\">\n",
       "  <thead>\n",
       "    <tr style=\"text-align: right;\">\n",
       "      <th></th>\n",
       "      <th>ID</th>\n",
       "      <th>HI14</th>\n",
       "      <th>NUNEMP14</th>\n",
       "      <th>NNOHS14</th>\n",
       "      <th>NDEP14</th>\n",
       "      <th>NHOUS14</th>\n",
       "      <th>NPOV14</th>\n",
       "      <th>NINC14</th>\n",
       "      <th>HI17</th>\n",
       "      <th>NUNEMP17</th>\n",
       "      <th>NNOHS17</th>\n",
       "      <th>NDEP17</th>\n",
       "      <th>NHOUS17</th>\n",
       "      <th>NPOV17</th>\n",
       "      <th>NINC17</th>\n",
       "      <th>HOM14</th>\n",
       "      <th>HOM17</th>\n",
       "    </tr>\n",
       "  </thead>\n",
       "  <tbody>\n",
       "    <tr>\n",
       "      <th>0</th>\n",
       "      <td>1</td>\n",
       "      <td>39.7</td>\n",
       "      <td>14.088398</td>\n",
       "      <td>27.167630</td>\n",
       "      <td>36.337209</td>\n",
       "      <td>43.624161</td>\n",
       "      <td>38.294011</td>\n",
       "      <td>21.434025</td>\n",
       "      <td>39.4</td>\n",
       "      <td>14.678899</td>\n",
       "      <td>29.562044</td>\n",
       "      <td>30.744337</td>\n",
       "      <td>47.368421</td>\n",
       "      <td>33.577982</td>\n",
       "      <td>23.521922</td>\n",
       "      <td>8</td>\n",
       "      <td>4</td>\n",
       "    </tr>\n",
       "    <tr>\n",
       "      <th>1</th>\n",
       "      <td>2</td>\n",
       "      <td>44.3</td>\n",
       "      <td>16.022099</td>\n",
       "      <td>28.516378</td>\n",
       "      <td>68.604651</td>\n",
       "      <td>46.979866</td>\n",
       "      <td>26.315789</td>\n",
       "      <td>20.384273</td>\n",
       "      <td>47.3</td>\n",
       "      <td>17.431193</td>\n",
       "      <td>37.591241</td>\n",
       "      <td>68.608414</td>\n",
       "      <td>55.639098</td>\n",
       "      <td>22.935780</td>\n",
       "      <td>22.187370</td>\n",
       "      <td>3</td>\n",
       "      <td>2</td>\n",
       "    </tr>\n",
       "  </tbody>\n",
       "</table>\n",
       "</div>"
      ],
      "text/plain": [
       "   ID  HI14   NUNEMP14    NNOHS14     NDEP14    NHOUS14     NPOV14     NINC14  \\\n",
       "0   1  39.7  14.088398  27.167630  36.337209  43.624161  38.294011  21.434025   \n",
       "1   2  44.3  16.022099  28.516378  68.604651  46.979866  26.315789  20.384273   \n",
       "\n",
       "   HI17   NUNEMP17    NNOHS17     NDEP17    NHOUS17     NPOV17     NINC17  \\\n",
       "0  39.4  14.678899  29.562044  30.744337  47.368421  33.577982  23.521922   \n",
       "1  47.3  17.431193  37.591241  68.608414  55.639098  22.935780  22.187370   \n",
       "\n",
       "   HOM14  HOM17  \n",
       "0      8      4  \n",
       "1      3      2  "
      ]
     },
     "execution_count": 30,
     "metadata": {},
     "output_type": "execute_result"
    }
   ],
   "source": [
    "raw_hardship=pd.read_excel('NHIHOM20142017Regression.xlsx')\n",
    "raw_hardship.head(2)"
   ]
  },
  {
   "cell_type": "markdown",
   "metadata": {},
   "source": [
    "3) Let's separate the 2014 and 2017 hardship index (HI) data into two dataframes called \"HIHOM14\" and \"HIHOM17\". The column names will reflect the year."
   ]
  },
  {
   "cell_type": "code",
   "execution_count": 31,
   "metadata": {},
   "outputs": [],
   "source": [
    "HIHOM14=raw_hardship[[\"ID\",\"HI14\",\"NUNEMP14\",\"NNOHS14\",\"NDEP14\",\"NHOUS14\",\"NPOV14\",\"NINC14\",\"HOM14\"]]\n",
    "HIHOM14 = HI14.rename(columns = {'ID':'ID14'})\n",
    "HIHOM17=raw_hardship[[\"ID\",\"HI17\",\"NUNEMP17\",\"NNOHS17\",\"NDEP17\",\"NHOUS17\",\"NPOV17\",\"NINC17\",\"HOM17\"]]\n",
    "HIHOM17 = HI17.rename(columns = {'ID':'ID17'})"
   ]
  },
  {
   "cell_type": "markdown",
   "metadata": {},
   "source": [
    "4) Let's check the 2014 data."
   ]
  },
  {
   "cell_type": "code",
   "execution_count": 32,
   "metadata": {},
   "outputs": [
    {
     "data": {
      "text/html": [
       "<div>\n",
       "<style scoped>\n",
       "    .dataframe tbody tr th:only-of-type {\n",
       "        vertical-align: middle;\n",
       "    }\n",
       "\n",
       "    .dataframe tbody tr th {\n",
       "        vertical-align: top;\n",
       "    }\n",
       "\n",
       "    .dataframe thead th {\n",
       "        text-align: right;\n",
       "    }\n",
       "</style>\n",
       "<table border=\"1\" class=\"dataframe\">\n",
       "  <thead>\n",
       "    <tr style=\"text-align: right;\">\n",
       "      <th></th>\n",
       "      <th>ID14</th>\n",
       "      <th>HI14</th>\n",
       "      <th>NUNEMP14</th>\n",
       "      <th>NNOHS14</th>\n",
       "      <th>NDEP14</th>\n",
       "      <th>NHOUS14</th>\n",
       "      <th>NPOV14</th>\n",
       "      <th>NINC14</th>\n",
       "      <th>HOM14</th>\n",
       "    </tr>\n",
       "  </thead>\n",
       "  <tbody>\n",
       "    <tr>\n",
       "      <th>0</th>\n",
       "      <td>1</td>\n",
       "      <td>39.7</td>\n",
       "      <td>14.088398</td>\n",
       "      <td>27.167630</td>\n",
       "      <td>36.337209</td>\n",
       "      <td>43.624161</td>\n",
       "      <td>38.294011</td>\n",
       "      <td>21.434025</td>\n",
       "      <td>8</td>\n",
       "    </tr>\n",
       "    <tr>\n",
       "      <th>1</th>\n",
       "      <td>2</td>\n",
       "      <td>44.3</td>\n",
       "      <td>16.022099</td>\n",
       "      <td>28.516378</td>\n",
       "      <td>68.604651</td>\n",
       "      <td>46.979866</td>\n",
       "      <td>26.315789</td>\n",
       "      <td>20.384273</td>\n",
       "      <td>3</td>\n",
       "    </tr>\n",
       "  </tbody>\n",
       "</table>\n",
       "</div>"
      ],
      "text/plain": [
       "   ID14  HI14   NUNEMP14    NNOHS14     NDEP14    NHOUS14     NPOV14  \\\n",
       "0     1  39.7  14.088398  27.167630  36.337209  43.624161  38.294011   \n",
       "1     2  44.3  16.022099  28.516378  68.604651  46.979866  26.315789   \n",
       "\n",
       "      NINC14  HOM14  \n",
       "0  21.434025      8  \n",
       "1  20.384273      3  "
      ]
     },
     "execution_count": 32,
     "metadata": {},
     "output_type": "execute_result"
    }
   ],
   "source": [
    "HIHOM14.head(2)"
   ]
  },
  {
   "cell_type": "markdown",
   "metadata": {},
   "source": [
    "5) Let's also check the 2017 data."
   ]
  },
  {
   "cell_type": "code",
   "execution_count": 33,
   "metadata": {},
   "outputs": [
    {
     "data": {
      "text/html": [
       "<div>\n",
       "<style scoped>\n",
       "    .dataframe tbody tr th:only-of-type {\n",
       "        vertical-align: middle;\n",
       "    }\n",
       "\n",
       "    .dataframe tbody tr th {\n",
       "        vertical-align: top;\n",
       "    }\n",
       "\n",
       "    .dataframe thead th {\n",
       "        text-align: right;\n",
       "    }\n",
       "</style>\n",
       "<table border=\"1\" class=\"dataframe\">\n",
       "  <thead>\n",
       "    <tr style=\"text-align: right;\">\n",
       "      <th></th>\n",
       "      <th>ID17</th>\n",
       "      <th>HI17</th>\n",
       "      <th>NUNEMP17</th>\n",
       "      <th>NNOHS17</th>\n",
       "      <th>NDEP17</th>\n",
       "      <th>NHOUS17</th>\n",
       "      <th>NPOV17</th>\n",
       "      <th>NINC17</th>\n",
       "      <th>HOM17</th>\n",
       "    </tr>\n",
       "  </thead>\n",
       "  <tbody>\n",
       "    <tr>\n",
       "      <th>0</th>\n",
       "      <td>1</td>\n",
       "      <td>39.4</td>\n",
       "      <td>14.678899</td>\n",
       "      <td>29.562044</td>\n",
       "      <td>30.744337</td>\n",
       "      <td>47.368421</td>\n",
       "      <td>33.577982</td>\n",
       "      <td>23.521922</td>\n",
       "      <td>4</td>\n",
       "    </tr>\n",
       "    <tr>\n",
       "      <th>1</th>\n",
       "      <td>2</td>\n",
       "      <td>47.3</td>\n",
       "      <td>17.431193</td>\n",
       "      <td>37.591241</td>\n",
       "      <td>68.608414</td>\n",
       "      <td>55.639098</td>\n",
       "      <td>22.935780</td>\n",
       "      <td>22.187370</td>\n",
       "      <td>2</td>\n",
       "    </tr>\n",
       "  </tbody>\n",
       "</table>\n",
       "</div>"
      ],
      "text/plain": [
       "   ID17  HI17   NUNEMP17    NNOHS17     NDEP17    NHOUS17     NPOV17  \\\n",
       "0     1  39.4  14.678899  29.562044  30.744337  47.368421  33.577982   \n",
       "1     2  47.3  17.431193  37.591241  68.608414  55.639098  22.935780   \n",
       "\n",
       "      NINC17  HOM17  \n",
       "0  23.521922      4  \n",
       "1  22.187370      2  "
      ]
     },
     "execution_count": 33,
     "metadata": {},
     "output_type": "execute_result"
    }
   ],
   "source": [
    "HIHOM17.head(2)"
   ]
  },
  {
   "cell_type": "markdown",
   "metadata": {},
   "source": [
    "6) Separate the independent variables X and dependent variable y."
   ]
  },
  {
   "cell_type": "code",
   "execution_count": 34,
   "metadata": {},
   "outputs": [],
   "source": [
    "X14=HIHOM14[[\"NUNEMP14\",\"NNOHS14\",\"NDEP14\",\"NHOUS14\",\"NPOV14\",\"NINC14\"]]\n",
    "X17=HIHOM17[[\"NUNEMP17\",\"NNOHS17\",\"NDEP17\",\"NHOUS17\",\"NPOV17\",\"NINC17\"]]\n",
    "yHI14=HIHOM14[[\"HI14\"]]\n",
    "yHI17=HIHOM17[[\"HI17\"]]\n",
    "yHOM14=HIHOM14[[\"HOM14\"]]\n",
    "yHOM17=HIHOM17[[\"HOM17\"]]"
   ]
  },
  {
   "cell_type": "markdown",
   "metadata": {},
   "source": [
    "7) Make the linear model prediction\n",
    "y=c0+c1y=c0+c1UNEMP*+c2NOHS*+c3DEP*+c4HOUS*+c5POV*+c6INC*"
   ]
  },
  {
   "cell_type": "code",
   "execution_count": 35,
   "metadata": {},
   "outputs": [
    {
     "name": "stdout",
     "output_type": "stream",
     "text": [
      "y=c0+c1UNEMP*+c2NOHS*+c3DEP*+c4HOUS*+c5POV*+c6INC*\n",
      "Coefficients c1,...,c6 for y=HI14:  [[ 0.16639838  0.16621632  0.16683639  0.16667235  0.16707147 -0.16673254]]\n",
      "Coefficients c1,..., c6 for y=HI17:  [[ 0.16605811  0.16718178  0.16751533  0.16196384  0.1685895  -0.17364809]]\n",
      "Coefficients c1,..,c6 for y=HOM14:  [[ 0.19335418 -0.13368914 -0.09136798  0.17149934  0.00507071 -0.0487013 ]]\n",
      "Coefficients c1,...,c6 for y=HOM17:  [[ 0.09189198 -0.02705192 -0.05043781  0.00254789  0.17600118 -0.11415851]]\n"
     ]
    }
   ],
   "source": [
    "from sklearn import linear_model\n",
    "regrHI14 = linear_model.LinearRegression()\n",
    "regrHI17 = linear_model.LinearRegression()\n",
    "regrHOM14 = linear_model.LinearRegression()\n",
    "regrHOM17 = linear_model.LinearRegression()\n",
    "regrHI14.fit(X14, yHI14)\n",
    "regrHI17.fit(X17, yHI17)\n",
    "regrHOM14.fit(X14, yHOM14)\n",
    "regrHOM17.fit(X17, yHOM17)\n",
    "print(\"y=c0+c1UNEMP*+c2NOHS*+c3DEP*+c4HOUS*+c5POV*+c6INC*\")\n",
    "print(\"Coefficients c1,...,c6 for y=HI14: \",regrHI14.coef_)\n",
    "print(\"Coefficients c1,..., c6 for y=HI17: \",regrHI17.coef_)\n",
    "print(\"Coefficients c1,..,c6 for y=HOM14: \",regrHOM14.coef_)\n",
    "print(\"Coefficients c1,...,c6 for y=HOM17: \",regrHOM17.coef_)"
   ]
  },
  {
   "cell_type": "code",
   "execution_count": null,
   "metadata": {},
   "outputs": [],
   "source": []
  }
 ],
 "metadata": {
  "kernelspec": {
   "display_name": "Python 3",
   "language": "python",
   "name": "python3"
  },
  "language_info": {
   "codemirror_mode": {
    "name": "ipython",
    "version": 3
   },
   "file_extension": ".py",
   "mimetype": "text/x-python",
   "name": "python",
   "nbconvert_exporter": "python",
   "pygments_lexer": "ipython3",
   "version": "3.6.4"
  }
 },
 "nbformat": 4,
 "nbformat_minor": 2
}
