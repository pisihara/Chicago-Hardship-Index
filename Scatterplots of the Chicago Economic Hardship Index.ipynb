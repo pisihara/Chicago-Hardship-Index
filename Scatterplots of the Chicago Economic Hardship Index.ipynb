{
 "cells": [
  {
   "cell_type": "markdown",
   "metadata": {},
   "source": [
    "In this notebook we will explore the harship index for Woodlawn, Chicago in relationship to other Chicago neighborhoods for two five-year periods ending in 2014 and in 2017.\n",
    "\n",
    "The variables are designated as follows:\n",
    "\n",
    "<ul>\n",
    "    <li> HI = hardship index </li>\n",
    "    <li> UNEMP = % of community age 16 and older who are unemployed. </li>\n",
    "     <li> NOHS = % of community age 25 and older without a high school diploma. </li>\n",
    "         <li> DEP = % of community who are dependent (under age 18 or over age 64). </li>\n",
    "             <li> HOUS= % of community with overcrowded housing (more than 1 occupant per room).</li>\n",
    "                 <li> POV = % below federal poverty line\n",
    "    <li> INC = per capita income.</li>\n",
    "             \n",
    " Data Source: https://greatcities.uic.edu/wp-content/uploads/2016/07/GCI-Hardship-Index-Fact-SheetV2.pdf (2010-2014) https://greatcities.uic.edu/wp-content/uploads/2019/12/Hardship-Index-Fact-Sheet-2017-ACS-Final-1.pdf (2013-2017).       "
   ]
  },
  {
   "cell_type": "markdown",
   "metadata": {},
   "source": [
    "1) We begin by importing Python's data analytics (pandas) and Numerical Python (numpy) libraries. (Press shift+enter to execute each cell)"
   ]
  },
  {
   "cell_type": "code",
   "execution_count": null,
   "metadata": {},
   "outputs": [],
   "source": [
    "import pandas as pd\n",
    "import numpy as np"
   ]
  },
  {
   "cell_type": "markdown",
   "metadata": {},
   "source": [
    "2) We use pandas (pd) to import the data file 'HI20142017.xlsx' to a dataframe called \"raw_hardship\"."
   ]
  },
  {
   "cell_type": "code",
   "execution_count": null,
   "metadata": {},
   "outputs": [],
   "source": [
    "raw_hardship=pd.read_excel('HI20142017.xlsx')\n",
    "raw_hardship.head(1)"
   ]
  },
  {
   "cell_type": "markdown",
   "metadata": {},
   "source": [
    "3) Let's separate the 2014 and 2017 hardship index (HI) data into two dataframes called \"HI14\" and \"HI17\". The column names will reflect the year."
   ]
  },
  {
   "cell_type": "code",
   "execution_count": null,
   "metadata": {},
   "outputs": [],
   "source": [
    "HI14=raw_hardship[[\"Community\",\"HI14\",\"UNEMP14\",\"NOHS14\",\"DEP14\",\"HOUS14\",\"POV14\",\"INC14\"]]\n",
    "HI14 = HI14.rename(columns = {'Community':'Community14'})\n",
    "HI17=raw_hardship[[\"Community\",\"HI17\",\"UNEMP17\",\"NOHS17\",\"DEP17\",\"HOUS17\",\"POV17\",\"INC17\"]]\n",
    "HI17 = HI17.rename(columns = {'Community':'Community17'})\n",
    "HI14.head(2)"
   ]
  },
  {
   "cell_type": "code",
   "execution_count": null,
   "metadata": {},
   "outputs": [],
   "source": [
    "HI17.head(2)"
   ]
  },
  {
   "cell_type": "markdown",
   "metadata": {},
   "source": [
    "4) In the next cell we'll define a function \n",
    "\n",
    "makescatterplot(HI14,HI17,community_list,show_all,index1,index2,xaxislabel,yaxislabel,xrange,title) \n",
    "\n",
    "which uses the data in HI14 and HI17 to makes scatterplots of (index1,index2). Brief explanation or examples of all the inputs to the function are described below.\n",
    "\n",
    "<ul>\n",
    "    <li> HI14 -- the dataframe with 2014 hardship index data </li>\n",
    "    <li> HI17 -- the dataframe with 2017 hardship index data </li>\n",
    "    <li> community_list --  a list of names of 1 or more communities, for eg. ['Woodlawn','Englewood','Austin'] </li>\n",
    "    <li> show_all -- Value is either True (in which case the scatterplotplot will show the names of all 77 communities) or False (in which case the scatterplot will only show the names of the community_list on the scatterplot) </li> \n",
    "    <li> index1 -- Name of the column (do not include the year) whose values are to be plotted as x coordinates  eg.\"UNEMP\" </li>\n",
    "    <li> index 2 -- Name of the column (do not include the year) whose values are to be plotted as y coordinates. eg. \"NOHS\" </li>  \n",
    "    <li>xaxislabel -- Label on the x-axis eg. \"% Age 16+ Unemployed\"</li>\n",
    "    <li>yaxislabel -- Label on the y-axis eg. \"% Age 25+ without a High School Diploma\"</li>\n",
    "    <li> xrange -- Labeled tick marks on the x-axis eg. np.arange(0,42,1) will display the numbers 0,1,2,..., 41  on the x-axis or np.arange(0,51,2)  will display the numbers 0,2,4,...,48,50 on the x-axis</li>\n",
    "    <li> title-- Title at the top of the scatterplot eg. \"Unemployment and Education 2014(gray) 2017 (red)\"\n",
    "    \n",
    "        \n",
    "        "
   ]
  },
  {
   "cell_type": "code",
   "execution_count": null,
   "metadata": {},
   "outputs": [],
   "source": [
    "def makescatterplot(HI14,HI17,community_list,show_all,index1,index2,xaxislabel,yaxislabel,xrange,title):\n",
    "    #import plotting tools\n",
    "    import matplotlib\n",
    "    import matplotlib.pyplot as plt\n",
    "    \n",
    "    #create a new figure\n",
    "    fig=plt.figure() \n",
    "    \n",
    "    #plot the 2014 points with size given by the HI value\n",
    "    ax=HI14.plot(x=index1+'14', y=index2+'14', kind='scatter',c=['gray'],xticks=np.arange(len(index1)), s=2*HI14['HI14'], alpha=.25,figsize=[16,20])\n",
    "    plt.xticks(xrange)\n",
    "    #Add labels to the HI14 points\n",
    "    for i in HI14.index:\n",
    "        if (HI14.loc[i,\"Community14\"] not in community_list) and show_all:\n",
    "            plt.gca().text(HI14.loc[i,index1+'14'], HI14.loc[i,index2+'14']+.25,HI14.loc[i,\"Community14\"],ha='center', color='k', fontsize=5)\n",
    "        elif HI14.loc[i,\"Community14\"] in community_list:\n",
    "            plt.gca().text(HI14.loc[i,index1+'14'], HI14.loc[i,index2+'14']+.25,HI14.loc[i,\"Community14\"],ha='center', color='k', fontsize=20)\n",
    "            plt.gca().text(HI14.loc[i,index1+'14'],HI14.loc[i,index2+'14']-.25,'x',ha='center', color='k', fontsize=10)\n",
    "    \n",
    "    #Add Labels for the HI17 points   \n",
    "    for i in HI17.index:\n",
    "        if (HI17.loc[i,\"Community17\"] not in community_list) and show_all:      \n",
    "            plt.gca().text(HI17.loc[i,index1+'17'], HI17.loc[i,index2+'17']+.25,HI17.loc[i,\"Community17\"],ha='center', color='r', fontsize=5)\n",
    "            \n",
    "        elif HI14.loc[i,\"Community14\"] in community_list:\n",
    "            plt.gca().text(HI17.loc[i,index1+'17'], HI17.loc[i,index2+'17']+.25,HI17.loc[i,\"Community17\"],ha='center', color='r', fontsize=20)\n",
    "            plt.gca().text(HI17.loc[i,index1+'17'], HI17.loc[i,index2+'17']-.25,'x',ha='center', color='r', fontsize=10)\n",
    "    #Add a Title\n",
    "    plt.title(title,size=20)\n",
    "    plt.xlabel(xaxislabel,size=15)\n",
    "    plt.ylabel(yaxislabel,size=15)\n",
    "\n",
    "    #Save the figure to a file\n",
    "    plt.savefig(index1+index2+'.png')"
   ]
  },
  {
   "cell_type": "markdown",
   "metadata": {},
   "source": [
    "5) Let's make three scatterplots highlighting the Woodlawn community.\n",
    "\n",
    "SCATTERPLOT #1: Unemployment (\"UNEMP\") vs. No High School Diploma (\"NOHS\")"
   ]
  },
  {
   "cell_type": "code",
   "execution_count": null,
   "metadata": {},
   "outputs": [],
   "source": [
    "makescatterplot(HI14,HI17,['Woodlawn'],True,\"UNEMP\",\"NOHS\",\"% Age 16+ Unemployed\",\"% Age 25+ without a High School Diploma\",np.arange(0,42,1),\"Unemployment and Education 2014(gray) 2017 (red)\")"
   ]
  },
  {
   "cell_type": "markdown",
   "metadata": {},
   "source": [
    "SCATTERPLOT #2: Dependent Population (\"DEP\") vs. Per Capita Income (\"INC\")"
   ]
  },
  {
   "cell_type": "code",
   "execution_count": null,
   "metadata": {},
   "outputs": [],
   "source": [
    "makescatterplot(HI14,HI17,['Woodlawn'],True,\"DEP\",\"INC\",\"% Dependent Population (Under Age 16, Over Age 64)\",\"Per Capita Income\",np.arange(0,51,1),\"Dependent Population and Income\")"
   ]
  },
  {
   "cell_type": "markdown",
   "metadata": {},
   "source": [
    "SCATTERPLOT #3: Below Poverty Line (\"POV\") and the value of the hardship index  (\"HI\")"
   ]
  },
  {
   "cell_type": "code",
   "execution_count": null,
   "metadata": {
    "scrolled": true
   },
   "outputs": [],
   "source": [
    "makescatterplot(HI14,HI17,['Woodlawn'],True,\"POV\",\"HI\",\"% Below Poverty Line\",\"Hardshp Index\",np.arange(0,64,2),\"Poverty and the Hardship Index 2014(gray) 2017 (red)\")"
   ]
  },
  {
   "cell_type": "markdown",
   "metadata": {},
   "source": [
    "The next three scatterplots will focus on three communities: Woodlawn, Englewood, and Austin.\n",
    "\n",
    "SCATTERPLOT #4: Three Community Unemployment vs No High School Diploma"
   ]
  },
  {
   "cell_type": "code",
   "execution_count": null,
   "metadata": {},
   "outputs": [],
   "source": [
    "makescatterplot(HI14,HI17,['Woodlawn','Englewood','Austin'],False,\"UNEMP\",\"NOHS\",\"% Age 16+ Unemployed\",\"% Age 25+ without a High School Diploma\",np.arange(0,42,1),\"Unemployment and Education 2014(gray) 2017 (red)\")"
   ]
  },
  {
   "cell_type": "markdown",
   "metadata": {},
   "source": [
    "SCATTERPLOT #5: Three Community Dependent Population vs Per Capita Income"
   ]
  },
  {
   "cell_type": "code",
   "execution_count": null,
   "metadata": {},
   "outputs": [],
   "source": [
    "makescatterplot(HI14,HI17,['Woodlawn','Englewood','Austin'],False,\"DEP\",\"INC\",\"% Dependent Population (Under Age 16, Over Age 64)\",\"Per Capita Income\",np.arange(0,51,1),\"Dependent Population and Income\")"
   ]
  },
  {
   "cell_type": "markdown",
   "metadata": {},
   "source": [
    "SCATTERPLOT #6: Three Community Below Poverty Line and HI"
   ]
  },
  {
   "cell_type": "code",
   "execution_count": null,
   "metadata": {},
   "outputs": [],
   "source": [
    "makescatterplot(HI14,HI17,['Woodlawn','Englewood','Austin'],False,\"POV\",\"HI\",\"% Below Poverty Line\",\"Hardshp Index\",np.arange(0,64,2),\"Poverty and the Hardship Index 2014(gray) 2017 (red)\")"
   ]
  },
  {
   "cell_type": "markdown",
   "metadata": {},
   "source": [
    "SCATTERPLOT #7: 3 Community Housing and Hardship Index"
   ]
  },
  {
   "cell_type": "code",
   "execution_count": null,
   "metadata": {},
   "outputs": [],
   "source": [
    "makescatterplot(HI14,HI17,['Woodlawn','Englewood','Austin'],False,\"HOUS\",\"HI\",\"% in Overcrowded Housing (>1/room)\",\"Hardship Index\",np.arange(0,18,2),\"Housing and the Hardship Index 2014 (Gray)  2017 (Red)\")"
   ]
  },
  {
   "cell_type": "code",
   "execution_count": null,
   "metadata": {},
   "outputs": [],
   "source": []
  }
 ],
 "metadata": {
  "kernelspec": {
   "display_name": "Python 3",
   "language": "python",
   "name": "python3"
  },
  "language_info": {
   "codemirror_mode": {
    "name": "ipython",
    "version": 3
   },
   "file_extension": ".py",
   "mimetype": "text/x-python",
   "name": "python",
   "nbconvert_exporter": "python",
   "pygments_lexer": "ipython3",
   "version": "3.6.4"
  }
 },
 "nbformat": 4,
 "nbformat_minor": 2
}
